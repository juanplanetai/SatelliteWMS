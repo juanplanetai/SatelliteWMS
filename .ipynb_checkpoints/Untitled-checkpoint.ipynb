{
 "cells": [
  {
   "cell_type": "code",
   "execution_count": 54,
   "id": "d2afe5af-f194-4f3e-8605-ac5c4a676e75",
   "metadata": {
    "tags": []
   },
   "outputs": [],
   "source": [
    "import rasterio \n",
    "import numpy as np\n",
    "from pyproj import Transformer"
   ]
  },
  {
   "cell_type": "code",
   "execution_count": 83,
   "id": "88e36c67-caa4-4b52-8d9b-8d9a77ce7fb8",
   "metadata": {
    "tags": []
   },
   "outputs": [
    {
     "name": "stdout",
     "output_type": "stream",
     "text": [
      "Band1 has shape (189, 367)\n",
      "lons shape (189, 367)\n"
     ]
    }
   ],
   "source": [
    "file_name = r\"images/Deforestacion 2018-09-20-00_00_2018-09-20-23_59_Sentinel-2_L2A_True_color.tiff\"\n",
    "with rasterio.open(file_name) as src:\n",
    "    band1 = src.read(1)\n",
    "    print('Band1 has shape', band1.shape)\n",
    "    height = band1.shape[0]\n",
    "    width = band1.shape[1]\n",
    "    cols, rows = np.meshgrid(np.arange(width), np.arange(height))\n",
    "    xs, ys = rasterio.transform.xy(src.transform, rows, cols)\n",
    "    lons= np.array(xs)\n",
    "    lats = np.array(ys)\n",
    "    print('lons shape', lons.shape)"
   ]
  },
  {
   "cell_type": "code",
   "execution_count": 84,
   "id": "fb834e05-c486-4539-9045-574ced5fc132",
   "metadata": {
    "tags": []
   },
   "outputs": [
    {
     "name": "stdout",
     "output_type": "stream",
     "text": [
      "{'driver': 'GTiff', 'dtype': 'uint8', 'nodata': None, 'width': 367, 'height': 189, 'count': 3, 'crs': CRS.from_epsg(3857), 'transform': Affine(9.99721350868763, 0.0, -7712634.218327467,\n",
      "       0.0, -9.996972449335132, 242735.91079210019)}\n",
      "Band1 has shape (189, 367)\n",
      "lons shape (189, 367)\n"
     ]
    }
   ],
   "source": [
    "file_name = r\"images/Deforestacion 2018-09-20-00_00_2018-09-20-23_59_Sentinel-2_L2A_True_color.tiff\"\n",
    "with rasterio.open(file_name) as src:\n",
    "    band1 = src.read(1)\n",
    "    print(src.meta)\n",
    "    print('Band1 has shape', band1.shape)\n",
    "\n",
    "    meta_c = src.meta\n",
    "    crs_f = 'EPSG:4326'\n",
    "    crs_c = meta_c['crs'].data['init'].upper()\n",
    "    transf_c = Transformer.from_crs(crs_c,crs_f,always_xy=True)\n",
    "    print('lons shape', lons.shape)"
   ]
  },
  {
   "cell_type": "code",
   "execution_count": null,
   "id": "f1b96478-44cb-4b1e-b578-f100aabbc687",
   "metadata": {},
   "outputs": [],
   "source": []
  },
  {
   "cell_type": "code",
   "execution_count": 80,
   "id": "8530cd15-3d65-4360-852a-e14f439b3d3d",
   "metadata": {
    "tags": []
   },
   "outputs": [
    {
     "data": {
      "text/plain": [
       "<Concatenated Operation Transformer: pipeline>\n",
       "Description: Inverse of Popular Visualisation Pseudo-Mercator + axis order change (2D)\n",
       "Area of Use:\n",
       "- name: World\n",
       "- bounds: (-180.0, -90.0, 180.0, 90.0)"
      ]
     },
     "execution_count": 80,
     "metadata": {},
     "output_type": "execute_result"
    }
   ],
   "source": [
    "transf_c"
   ]
  },
  {
   "cell_type": "code",
   "execution_count": 85,
   "id": "b55a02bd-dfca-4cf9-9a33-a488ff3b5954",
   "metadata": {
    "tags": []
   },
   "outputs": [
    {
     "data": {
      "text/plain": [
       "((0, 0), (188, 0), (188, 366), (0, 366))"
      ]
     },
     "execution_count": 85,
     "metadata": {},
     "output_type": "execute_result"
    }
   ],
   "source": [
    "left_top = (0,0)\n",
    "right_top = (lons.shape[0]-1,0)\n",
    "right_bot = (lons.shape[0]-1,lons.shape[1]-1)\n",
    "left_bot = (0,lons.shape[1]-1)\n",
    "\n",
    "left_top, right_top, right_bot, left_bot"
   ]
  },
  {
   "cell_type": "code",
   "execution_count": 87,
   "id": "82859bba-73be-42f2-85be-c784fb306f1d",
   "metadata": {
    "tags": []
   },
   "outputs": [
    {
     "name": "stdout",
     "output_type": "stream",
     "text": [
      "(-69.28372708821935, 2.1799627365490752)\n"
     ]
    }
   ],
   "source": [
    "print(transf_c.transform(lons[right_top], lats[right_top]))"
   ]
  },
  {
   "cell_type": "code",
   "execution_count": 48,
   "id": "781c113b-9706-4948-be1a-8d88844f0fa7",
   "metadata": {
    "tags": []
   },
   "outputs": [
    {
     "data": {
      "text/plain": [
       "(189, 367)"
      ]
     },
     "execution_count": 48,
     "metadata": {},
     "output_type": "execute_result"
    }
   ],
   "source": [
    "lons.shape"
   ]
  },
  {
   "cell_type": "code",
   "execution_count": 78,
   "id": "db59a253-cdf0-4b60-ab12-764df4cbe64c",
   "metadata": {
    "tags": []
   },
   "outputs": [
    {
     "data": {
      "text/plain": [
       "<matplotlib.collections.PathCollection at 0x7fabde570190>"
      ]
     },
     "execution_count": 78,
     "metadata": {},
     "output_type": "execute_result"
    },
    {
     "data": {
      "image/png": "[encoded data removed]",
      "text/plain": [
       "<Figure size 640x480 with 1 Axes>"
      ]
     },
     "metadata": {},
     "output_type": "display_data"
    }
   ],
   "source": [
    "import matplotlib.pyplot as plt\n",
    "plt.imshow(lats)\n",
    "plt.scatter(0,0, c = \"r\")\n",
    "plt.scatter(0,lons.shape[0], c = \"g\")\n",
    "plt.scatter(lons.shape[1],0, c = \"b\")\n",
    "plt.scatter(lons.shape[1], lons.shape[0], c = \"k\")"
   ]
  }
 ],
 "metadata": {
  "kernelspec": {
   "display_name": "Python 3 (ipykernel)",
   "language": "python",
   "name": "python3"
  },
  "language_info": {
   "codemirror_mode": {
    "name": "ipython",
    "version": 3
   },
   "file_extension": ".py",
   "mimetype": "text/x-python",
   "name": "python",
   "nbconvert_exporter": "python",
   "pygments_lexer": "ipython3",
   "version": "3.11.5"
  }
 },
 "nbformat": 4,
 "nbformat_minor": 5
}
